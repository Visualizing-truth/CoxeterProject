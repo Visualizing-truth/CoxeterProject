{
 "cells": [
  {
   "cell_type": "code",
   "execution_count": 18,
   "id": "3abfd899",
   "metadata": {},
   "outputs": [
    {
     "name": "stdout",
     "output_type": "stream",
     "text": [
      "Graphics3d Object\n"
     ]
    }
   ],
   "source": [
    "from sage.all import Polyhedron\n",
    "from itertools import permutations\n",
    "p = [[0, 0, 0], [1,0,0], [0,1,0], [0,0,1], [1,0,1], [0,1,1]]\n",
    "\n",
    "nb_vertices = len(p)\n",
    "sum = 0\n",
    "for i in range(1, nb_vertices + 1):\n",
    "    sum += i\n",
    "\n",
    "w = list(range(1, nb_vertices + 1))\n",
    "\n",
    "vertices = []\n",
    "for perm in permutations(w):\n",
    "    current_vertex = [0, 0, 0]\n",
    "    for i in range(nb_vertices):\n",
    "        current_vertex[0] += perm[i] * p[i][0]\n",
    "        current_vertex[1] += perm[i] * p[i][1]\n",
    "        current_vertex[2] += perm[i] * p[i][2]\n",
    "    vert = [1/sum * current_vertex[0],\n",
    "            1/sum * current_vertex[1],\n",
    "            1/sum * current_vertex[2]]\n",
    "    vertices.append(vert)\n",
    "\n",
    "P = Polyhedron(vertices=vertices)\n",
    "P.plot(viewer='threejs')\n"
   ]
  },
  {
   "cell_type": "code",
   "execution_count": 17,
   "id": "5eee54c4-a4d4-4ca3-a82a-8da5f3aa4ec3",
   "metadata": {},
   "outputs": [
    {
     "data": {
      "text/plain": [
       "A 3-dimensional polyhedron in RDF^3 defined as the convex hull of 60 vertices"
      ]
     },
     "execution_count": 17,
     "metadata": {},
     "output_type": "execute_result"
    }
   ],
   "source": [
    "P"
   ]
  },
  {
   "cell_type": "code",
   "execution_count": null,
   "id": "c932b6f6-b5b0-4e19-b029-f30c573d655f",
   "metadata": {},
   "outputs": [],
   "source": []
  }
 ],
 "metadata": {
  "kernelspec": {
   "display_name": "SageMath",
   "language": "python",
   "name": "sage"
  },
  "language_info": {
   "codemirror_mode": {
    "name": "ipython",
    "version": 3
   },
   "file_extension": ".py",
   "mimetype": "text/x-python",
   "name": "python",
   "nbconvert_exporter": "python",
   "pygments_lexer": "ipython3",
   "version": "3.11.10"
  }
 },
 "nbformat": 4,
 "nbformat_minor": 5
}
