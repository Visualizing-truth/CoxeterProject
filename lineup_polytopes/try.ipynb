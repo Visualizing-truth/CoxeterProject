{
 "cells": [
  {
   "cell_type": "code",
   "execution_count": 1,
   "id": "3abfd899",
   "metadata": {},
   "outputs": [
    {
     "name": "stdout",
     "output_type": "stream",
     "text": [
      "Graphics3d Object\n"
     ]
    }
   ],
   "source": [
    "from sage.all import Polyhedron\n",
    "\n",
    "def get_lineup_polytope_3d(p):\n",
    "    from itertools import permutations\n",
    "\n",
    "    nb_vertices = len(p)\n",
    "    sum = 0\n",
    "    for i in range(1, nb_vertices + 1):\n",
    "        sum += i\n",
    "\n",
    "    w = list(range(1, nb_vertices + 1))\n",
    "\n",
    "    vertices = []\n",
    "    for perm in permutations(w):\n",
    "        current_vertex = [0, 0, 0]\n",
    "        for i in range(nb_vertices):\n",
    "            current_vertex[0] += perm[i] * p[i][0]\n",
    "            current_vertex[1] += perm[i] * p[i][1]\n",
    "            current_vertex[2] += perm[i] * p[i][2]\n",
    "        vert = [1/sum * current_vertex[0],\n",
    "                1/sum * current_vertex[1],\n",
    "                1/sum * current_vertex[2]]\n",
    "        vertices.append(vert)\n",
    "\n",
    "    P = Polyhedron(vertices=vertices)\n",
    "    P.show(viewer='threejs')\n",
    "\n",
    "prisme = [[0, 0, 0], [1,0,0], [0,1,0], [0,0,1], [1,0,1], [0,1,1]]\n",
    "get_lineup_polytope_3d(prisme)"
   ]
  }
 ],
 "metadata": {
  "kernelspec": {
   "display_name": "SageMath",
   "language": "python",
   "name": "sage"
  },
  "language_info": {
   "codemirror_mode": {
    "name": "ipython",
    "version": 3
   },
   "file_extension": ".py",
   "mimetype": "text/x-python",
   "name": "python",
   "nbconvert_exporter": "python",
   "pygments_lexer": "ipython3",
   "version": "3.11.10"
  }
 },
 "nbformat": 4,
 "nbformat_minor": 5
}
