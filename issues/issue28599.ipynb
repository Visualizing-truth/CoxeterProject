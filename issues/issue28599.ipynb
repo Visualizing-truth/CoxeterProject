{
 "cells": [
  {
   "cell_type": "code",
   "execution_count": 24,
   "id": "7aad1263",
   "metadata": {
    "vscode": {
     "languageId": "python"
    }
   },
   "outputs": [
    {
     "data": {
      "image/png": "[encoded data removed]",
      "text/plain": [
       "Graphics object consisting of 18 graphics primitives"
      ]
     },
     "execution_count": 24,
     "metadata": {},
     "output_type": "execute_result"
    }
   ],
   "source": [
    "P = polytopes.regular_polygon(16, exact=False)\n",
    "P.plot()\n",
    "\n",
    "#Correction : P = polytopes.regular_polygon(16, exact=False)\n"
   ]
  },
  {
   "cell_type": "markdown",
   "id": "fb0cc991",
   "metadata": {},
   "source": [
    "# Function regular_polygon :\n",
    "\n",
    "class Polytopes:  \n",
    "    \"\"\"\n",
    "    A class of constructors for commonly used, famous, or interesting\n",
    "    polytopes.\n",
    "    \"\"\"\n",
    "\n",
    "    def regular_polygon(self, n, exact=True, base_ring=None, backend=None):\n",
    "        \"\"\"\n",
    "        Return a regular polygon with `n` vertices.\n",
    "\n",
    "        INPUT:\n",
    "\n",
    "        - ``n`` -- positive integer; the number of vertices\n",
    "\n",
    "        - ``exact`` -- boolean (default: ``True``); if ``False`` floating point\n",
    "          numbers are used for coordinates\n",
    "\n",
    "        - ``base_ring`` -- a ring in which the coordinates will lie. It is\n",
    "          ``None`` by default. If it is not provided and ``exact`` is ``True``\n",
    "          then it will be the field of real algebraic number, if ``exact`` is\n",
    "          ``False`` it will be the real double field.\n",
    "\n",
    "        - ``backend`` -- the backend to use to create the polytope\n",
    "\n",
    "        EXAMPLES::\n",
    "\n",
    "            sage: # needs sage.rings.number_field\n",
    "            sage: octagon = polytopes.regular_polygon(8)\n",
    "            sage: octagon\n",
    "            A 2-dimensional polyhedron in AA^2 defined as the convex hull of 8 vertices\n",
    "            sage: octagon.n_vertices()\n",
    "            8\n",
    "            sage: v = octagon.volume()\n",
    "            sage: v\n",
    "            2.828427124746190?\n",
    "            sage: v == 2*QQbar(2).sqrt()\n",
    "            True\n",
    "\n",
    "        Its non exact version::\n",
    "\n",
    "            sage: polytopes.regular_polygon(3, exact=False).vertices()\n",
    "            (A vertex at (0.0, 1.0),\n",
    "             A vertex at (0.8660254038, -0.5),\n",
    "             A vertex at (-0.8660254038, -0.5))\n",
    "            sage: polytopes.regular_polygon(25, exact=False).n_vertices()\n",
    "            25\n",
    "\n",
    "        TESTS::\n",
    "\n",
    "            sage: # optional - pynormaliz, needs sage.rings.number_field\n",
    "            sage: octagon = polytopes.regular_polygon(8, backend='normaliz')\n",
    "            sage: octagon\n",
    "            A 2-dimensional polyhedron in AA^2 defined as the convex hull of 8 vertices\n",
    "            sage: octagon.n_vertices()\n",
    "            8\n",
    "            sage: octagon.volume()\n",
    "            2*a\n",
    "            sage: TestSuite(octagon).run()      # long time\n",
    "\n",
    "            sage: TestSuite(polytopes.regular_polygon(5, exact=False)).run()\n",
    "        \"\"\"\n",
    "        n = ZZ(n)\n",
    "        if n <= 2:\n",
    "            raise ValueError(\"n (={}) must be an integer greater than 2\".format(n))\n",
    "\n",
    "        if base_ring is None:\n",
    "            if exact:\n",
    "                from sage.rings.qqbar import AA as base_ring\n",
    "            else: \n",
    "                from sage.rings.real_double import RDF as base_ring\n",
    "        try:\n",
    "            omega = 2*base_ring.pi() / n\n",
    "            verts = [((i*omega).sin(), (i*omega).cos()) for i in range(n)]\n",
    "        except AttributeError:\n",
    "            from sage.rings.qqbar import QQbar\n",
    "            z = QQbar.zeta(n)\n",
    "            verts = [(base_ring((z**k).imag()), base_ring((z**k).real())) for k in range(n)]\n",
    "\n",
    "        return Polyhedron(vertices=verts, base_ring=base_ring, backend=backend)\n",
    "\n"
   ]
  },
  {
   "cell_type": "code",
   "execution_count": 1,
   "id": "e8a50419",
   "metadata": {
    "vscode": {
     "languageId": "python"
    }
   },
   "outputs": [
    {
     "name": "stderr",
     "output_type": "stream",
     "text": [
      "\n",
      "KeyboardInterrupt\n",
      "\n"
     ]
    }
   ],
   "source": [
    "\n",
    "n = ZZ(16)\n",
    "if n <= 2:\n",
    "    raise ValueError(\"n (={}) must be an integer greater than 2\".format(n))\n",
    "\n",
    "exact = True\n",
    "base_ring = None\n",
    "\n",
    "if base_ring is None:\n",
    "    if exact:\n",
    "        from sage.rings.qqbar import QQbar, AA\n",
    "        base_ring = AA\n",
    "    else:\n",
    "        from sage.rings.real_double import RDF\n",
    "        base_ring = RDF\n",
    "try:\n",
    "    omega = 2*base_ring.pi() / n\n",
    "    verts = [((i*omega).sin(), (i*omega).cos()) for i in range(n)]\n",
    "except AttributeError:\n",
    "    from sage.rings.qqbar import QQbar, AA\n",
    "    z = QQbar.zeta(n)\n",
    "    verts = [(AA((z**k).imag()), AA((z**k).real())) for k in range(n)]\n",
    "Polyhedron(vertices=verts, base_ring=base_ring, backend=None)\n"
   ]
  },
  {
   "cell_type": "markdown",
   "id": "c7a7ad60",
   "metadata": {},
   "source": [
    "# Note à moi-même :   \n",
    "\n",
    "Le problème vien du fait qu'on fait des calculs avec des valeurs exact et non des valeurs approximée. Alors, la fonction fonctionne toujours tant que eaxact = false. \n",
    "\n",
    "\n",
    "La fonction regular_polygon est bonne, le return du Polyhedron pose problème \n",
    "\n",
    "J'ai trouvé le constructeur dans le fichier constructor\n",
    "\n",
    "Dans tout les cas qu'on fait avec l'appel de regular_polygon, on tombe sur une V_Representation. \n",
    "\n",
    "L'erreur ne vient pas du constructeur de polyhedron en lui-même, il y a une erreur à la constrcuction de se dernier avec le return du parent\n",
    "\n",
    "______________________________________________________________\n",
    "\n",
    "L'erreur semble venir d'ici : self._numpy_dtype = numpy.dtype('float64'). \n",
    "\n",
    "Serait-ce une erreur de conversion de type ? "
   ]
  }
 ],
 "metadata": {
  "kernelspec": {
   "display_name": "SageMath 10.4",
   "language": "sage",
   "name": "sagemath"
  },
  "language_info": {
   "codemirror_mode": {
    "name": "ipython",
    "version": 3
   },
   "file_extension": ".py",
   "mimetype": "text/x-python",
   "name": "sage",
   "nbconvert_exporter": "python",
   "pygments_lexer": "ipython3",
   "version": "3.11.10"
  }
 },
 "nbformat": 4,
 "nbformat_minor": 5
}
